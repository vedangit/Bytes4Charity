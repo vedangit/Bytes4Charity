{
  "nbformat": 4,
  "nbformat_minor": 0,
  "metadata": {
    "colab": {
      "provenance": [],
      "authorship_tag": "ABX9TyMhfjfWjxebekRdQJBAbzWe",
      "include_colab_link": true
    },
    "kernelspec": {
      "name": "python3",
      "display_name": "Python 3"
    },
    "language_info": {
      "name": "python"
    }
  },
  "cells": [
    {
      "cell_type": "markdown",
      "metadata": {
        "id": "view-in-github",
        "colab_type": "text"
      },
      "source": [
        "<a href=\"https://colab.research.google.com/github/vedangit/Bytes4Charity.github.io/blob/main/Copy_of_exercise0.ipynb\" target=\"_parent\"><img src=\"https://colab.research.google.com/assets/colab-badge.svg\" alt=\"Open In Colab\"/></a>"
      ]
    },
    {
      "cell_type": "markdown",
      "source": [
        "## **Data Engineering Concepts - Lab Session 1**\n",
        "\n",
        "### List\n",
        "   - It is a fundamental data structure that stores similar data types in an ordered fashion.\n",
        "   - It is mutable.\n",
        "\n"
      ],
      "metadata": {
        "id": "jvvPRXlhiIsk"
      }
    },
    {
      "cell_type": "code",
      "source": [
        "integerList = [2, 3, 4, 5, 6]\n",
        "print(integerList)"
      ],
      "metadata": {
        "colab": {
          "base_uri": "https://localhost:8080/"
        },
        "id": "pI6RnggXirpO",
        "outputId": "8e2b2157-5a9a-4c3d-f2c5-6b182964430f"
      },
      "execution_count": null,
      "outputs": [
        {
          "output_type": "stream",
          "name": "stdout",
          "text": [
            "[2, 3, 4, 5, 6]\n"
          ]
        }
      ]
    },
    {
      "cell_type": "markdown",
      "source": [
        "#### Heterogenous list\n",
        "- Different datatypes"
      ],
      "metadata": {
        "id": "k-5uawgLjwfS"
      }
    },
    {
      "cell_type": "code",
      "source": [
        "hetList = [\"a\", 3, True, 5.8]\n",
        "print(hetList)"
      ],
      "metadata": {
        "colab": {
          "base_uri": "https://localhost:8080/"
        },
        "id": "P8gD_xQ4j1xE",
        "outputId": "5c7d7026-ea2d-4e1d-e530-7eab9b06e9c5"
      },
      "execution_count": null,
      "outputs": [
        {
          "output_type": "stream",
          "name": "stdout",
          "text": [
            "['a', 3, True, 5.8]\n"
          ]
        }
      ]
    },
    {
      "cell_type": "markdown",
      "source": [
        "#### Nested List\n",
        "- List of lists"
      ],
      "metadata": {
        "id": "y9cgbtqTkMHP"
      }
    },
    {
      "cell_type": "code",
      "source": [
        "List = [\"a\", \"b\", 7]\n",
        "Empty = []\n",
        "IntList = [1, 2, 3, 4, 5, 6]\n",
        "Nested = [\"g\", List, Empty, IntList]\n",
        "print(Nested)"
      ],
      "metadata": {
        "colab": {
          "base_uri": "https://localhost:8080/"
        },
        "id": "jqW9FSI0kPVA",
        "outputId": "eda0c3b8-4d45-4412-d97c-43e87e5d402f"
      },
      "execution_count": null,
      "outputs": [
        {
          "output_type": "stream",
          "name": "stdout",
          "text": [
            "['g', ['a', 'b', 7], [], [1, 2, 3, 4, 5, 6]]\n"
          ]
        }
      ]
    },
    {
      "cell_type": "markdown",
      "source": [],
      "metadata": {
        "id": "n47jYIQpktnA"
      }
    },
    {
      "cell_type": "markdown",
      "source": [
        "#### List Operations\n",
        "- append\n",
        "\n",
        "\n"
      ],
      "metadata": {
        "id": "Z6tdExg7ktoY"
      }
    },
    {
      "cell_type": "code",
      "source": [
        "my_list = [\"a\", \"b\", 7]\n",
        "print(my_list)\n",
        "my_list.append(\"k\")\n",
        "print(my_list)"
      ],
      "metadata": {
        "colab": {
          "base_uri": "https://localhost:8080/"
        },
        "id": "9SQNnyA6k5A1",
        "outputId": "42f5f0d6-9d70-4962-c40a-8e04963c65f0"
      },
      "execution_count": null,
      "outputs": [
        {
          "output_type": "stream",
          "name": "stdout",
          "text": [
            "['a', 'b', 7]\n",
            "['a', 'b', 7, 'k']\n"
          ]
        }
      ]
    },
    {
      "cell_type": "markdown",
      "source": [
        "- delete"
      ],
      "metadata": {
        "id": "h5NN_DWElH0n"
      }
    },
    {
      "cell_type": "code",
      "source": [
        "my_list = [\"a\", \"b\", 7]\n",
        "print(my_list)\n",
        "my_list.remove(\"b\")\n",
        "print(my_list)"
      ],
      "metadata": {
        "colab": {
          "base_uri": "https://localhost:8080/"
        },
        "id": "VH0LF_3blJdI",
        "outputId": "a563d6c7-8cbf-488d-8d7c-3493ea6cd1ec"
      },
      "execution_count": null,
      "outputs": [
        {
          "output_type": "stream",
          "name": "stdout",
          "text": [
            "['a', 'b', 7]\n",
            "['a', 7]\n"
          ]
        }
      ]
    },
    {
      "cell_type": "markdown",
      "source": [
        "- sort"
      ],
      "metadata": {
        "id": "l4dFCQA2lQ4l"
      }
    },
    {
      "cell_type": "code",
      "source": [
        "integerList = [2, 4, 9, 5, 61]\n",
        "print(integerList)\n",
        "integerList.sort()\n",
        "print(integerList)"
      ],
      "metadata": {
        "colab": {
          "base_uri": "https://localhost:8080/"
        },
        "id": "sZK3QUsslRvF",
        "outputId": "5303867f-587f-4147-d1eb-3a9565983921"
      },
      "execution_count": null,
      "outputs": [
        {
          "output_type": "stream",
          "name": "stdout",
          "text": [
            "[2, 4, 9, 5, 61]\n",
            "[2, 4, 5, 9, 61]\n"
          ]
        }
      ]
    },
    {
      "cell_type": "markdown",
      "source": [
        "- reverse"
      ],
      "metadata": {
        "id": "sl9jUHlalbDX"
      }
    },
    {
      "cell_type": "code",
      "source": [
        "integerList = [2, 4, 9, 5, 61]\n",
        "print(integerList)\n",
        "integerList.reverse()\n",
        "print(integerList)"
      ],
      "metadata": {
        "colab": {
          "base_uri": "https://localhost:8080/"
        },
        "id": "K6G9jtVfllSn",
        "outputId": "a7b12884-f6ab-4b92-e4eb-c51d6c5e06f0"
      },
      "execution_count": null,
      "outputs": [
        {
          "output_type": "stream",
          "name": "stdout",
          "text": [
            "[2, 4, 9, 5, 61]\n",
            "[61, 5, 9, 4, 2]\n"
          ]
        }
      ]
    },
    {
      "cell_type": "markdown",
      "source": [
        "- insert"
      ],
      "metadata": {
        "id": "ApR3eHNClnhs"
      }
    },
    {
      "cell_type": "code",
      "source": [
        "integerList = [2, 4, 9, 5, 61]\n",
        "print(integerList)\n",
        "integerList.insert(3, 2)\n",
        "print(integerList)"
      ],
      "metadata": {
        "colab": {
          "base_uri": "https://localhost:8080/"
        },
        "id": "pySOjasylsj9",
        "outputId": "0a27cb66-b45b-4bcb-a78d-e03964be0316"
      },
      "execution_count": null,
      "outputs": [
        {
          "output_type": "stream",
          "name": "stdout",
          "text": [
            "[2, 4, 9, 5, 61]\n",
            "[2, 4, 9, 2, 5, 61]\n"
          ]
        }
      ]
    },
    {
      "cell_type": "markdown",
      "source": [
        "- length"
      ],
      "metadata": {
        "id": "OhNkiN9Sl4ib"
      }
    },
    {
      "cell_type": "code",
      "source": [
        "integerList = [2, 4, 9, 5, 61]\n",
        "print(integerList)\n",
        "print(len(integerList))\n"
      ],
      "metadata": {
        "colab": {
          "base_uri": "https://localhost:8080/"
        },
        "id": "BIpMgMUMl62U",
        "outputId": "e57f63ea-ac0a-4270-c634-70580f9d225c"
      },
      "execution_count": null,
      "outputs": [
        {
          "output_type": "stream",
          "name": "stdout",
          "text": [
            "[2, 4, 9, 5, 61]\n",
            "5\n"
          ]
        }
      ]
    },
    {
      "cell_type": "markdown",
      "source": [
        "- retrieve"
      ],
      "metadata": {
        "id": "ItJ5gCrbnIap"
      }
    },
    {
      "cell_type": "code",
      "source": [
        "integerList = [2, 4, 9, 5, 61]\n",
        "print(integerList)\n",
        "print(integerList[0])\n",
        "print(integerList[-1])\n",
        "print(integerList[-3])"
      ],
      "metadata": {
        "colab": {
          "base_uri": "https://localhost:8080/"
        },
        "id": "Isge4RcvnJ5g",
        "outputId": "49d746df-83d6-442a-8a4b-63c1d1916924"
      },
      "execution_count": null,
      "outputs": [
        {
          "output_type": "stream",
          "name": "stdout",
          "text": [
            "[2, 4, 9, 5, 61]\n",
            "2\n",
            "61\n",
            "9\n"
          ]
        }
      ]
    },
    {
      "cell_type": "markdown",
      "source": [
        "- slice [i:j] -> i (inclusive) and j (exclusive)\n"
      ],
      "metadata": {
        "id": "brBzj7FPn4VQ"
      }
    },
    {
      "cell_type": "code",
      "source": [
        "integerList = [2, 4, 9, 5, 61]\n",
        "print(integerList)\n",
        "print(integerList[0:3])\n",
        "print(integerList[3:5])\n",
        "print(integerList[1:5])\n",
        "print(integerList[5:3])\n",
        "print(integerList[0:5:2])"
      ],
      "metadata": {
        "colab": {
          "base_uri": "https://localhost:8080/"
        },
        "id": "AguiHPYLn5Ie",
        "outputId": "f8f01fd3-7aa1-4051-c628-b722288d1c14"
      },
      "execution_count": null,
      "outputs": [
        {
          "output_type": "stream",
          "name": "stdout",
          "text": [
            "[2, 4, 9, 5, 61]\n",
            "[2, 4, 9]\n",
            "[5, 61]\n",
            "[4, 9, 5, 61]\n",
            "[]\n",
            "[2, 9, 61]\n"
          ]
        }
      ]
    },
    {
      "cell_type": "markdown",
      "source": [
        "#### in operator"
      ],
      "metadata": {
        "id": "0NtskjbjoqYA"
      }
    },
    {
      "cell_type": "markdown",
      "source": [
        "### favourite movies"
      ],
      "metadata": {
        "id": "hUd5jWDUmL2U"
      }
    },
    {
      "cell_type": "code",
      "source": [
        "movies = [\"oppenheimer\", \"infinity war\", \"sitaramam\", \"RRKPK\", \"intestellar\"]\n",
        "rating = [4.9, 4.8, 4.5, 3.7, 4.2]\n",
        "movies.append(\"hunger games\")\n",
        "movies.append(\"harry potter\")\n",
        "movies.append(\"crazy stupid love\")\n",
        "movies.append(\"13 going on 30\")\n",
        "movies.append(\"avengers\")\n",
        "print(movies)"
      ],
      "metadata": {
        "colab": {
          "base_uri": "https://localhost:8080/"
        },
        "id": "_mdC739fmPJ2",
        "outputId": "92bceb12-c98f-44b2-82b8-5545f935ece3"
      },
      "execution_count": null,
      "outputs": [
        {
          "output_type": "stream",
          "name": "stdout",
          "text": [
            "['oppenheimer', 'infinity war', 'sitaramam', 'RRKPK', 'intestellar', 'hunger games', 'harry potter', 'crazy stupid love', '13 going on 30', 'avengers']\n"
          ]
        }
      ]
    }
  ]
}